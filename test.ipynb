{
 "cells": [
  {
   "cell_type": "code",
   "execution_count": 8,
   "metadata": {},
   "outputs": [
    {
     "name": "stdout",
     "output_type": "stream",
     "text": [
      "--------------------------------------------------------------------------------\n"
     ]
    }
   ],
   "source": [
    "import os\n",
    "import torch.nn as nn\n",
    "from datasets import GTEA\n",
    "from torch.utils.data import DataLoader\n",
    "from tqdm import tqdm\n",
    "# import wandb\n",
    "import argparse\n",
    "import shutil\n",
    "from pathlib import Path\n",
    "import yaml\n",
    "from dotmap import DotMap\n",
    "import pprint\n",
    "from modules.fusion_module import fusion_base\n",
    "from test_acti import validate\n",
    "from utils.KLLoss import KLLoss\n",
    "from utils.Augmentation import *\n",
    "from utils.solver import _optimizer, _lr_scheduler\n",
    "from utils.tools import *\n",
    "from utils.text_prompt import *\n",
    "from utils.saving import *\n",
    "\n",
    "print('-' * 80)"
   ]
  },
  {
   "cell_type": "code",
   "execution_count": 6,
   "metadata": {},
   "outputs": [
    {
     "name": "stdout",
     "output_type": "stream",
     "text": [
      "CUDA Available: False\n",
      "Number of GPUs: 0\n",
      "Current GPU: No GPU detected\n"
     ]
    }
   ],
   "source": [
    "import torch\n",
    "\n",
    "print(\"CUDA Available:\", torch.cuda.is_available())\n",
    "print(\"Number of GPUs:\", torch.cuda.device_count())\n",
    "print(\"Current GPU:\", torch.cuda.get_device_name(0) if torch.cuda.is_available() else \"No GPU detected\")\n"
   ]
  }
 ],
 "metadata": {
  "kernelspec": {
   "display_name": "vrd",
   "language": "python",
   "name": "python3"
  },
  "language_info": {
   "codemirror_mode": {
    "name": "ipython",
    "version": 3
   },
   "file_extension": ".py",
   "mimetype": "text/x-python",
   "name": "python",
   "nbconvert_exporter": "python",
   "pygments_lexer": "ipython3",
   "version": "3.9.21"
  }
 },
 "nbformat": 4,
 "nbformat_minor": 2
}
